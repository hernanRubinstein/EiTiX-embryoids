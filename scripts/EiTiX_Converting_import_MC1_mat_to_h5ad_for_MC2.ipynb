{
 "cells": [
  {
   "cell_type": "code",
   "execution_count": 1,
   "id": "27ffb106",
   "metadata": {
    "scrolled": true
   },
   "outputs": [
    {
     "name": "stderr",
     "output_type": "stream",
     "text": [
      "\n",
      "Attaching package: 'dplyr'\n",
      "\n",
      "\n",
      "The following objects are masked from 'package:stats':\n",
      "\n",
      "    filter, lag\n",
      "\n",
      "\n",
      "The following objects are masked from 'package:base':\n",
      "\n",
      "    intersect, setdiff, setequal, union\n",
      "\n",
      "\n",
      "initializing scdb to /net/mraid14/export/tgdata/users/hernan/wd_NEW/scrna_db/\n",
      "\n"
     ]
    }
   ],
   "source": [
    "library(\"metacell\")\n",
    "library(\"dplyr\")\n",
    "library(\"ggplot2\")\n",
    "library(\"tgstat\")\n",
    "library(\"RColorBrewer\")\n",
    "library(\"reticulate\")\n",
    "library(\"anndata\")\n",
    "sc = import(\"scanpy\")\n",
    "mc2 = import(\"metacells\")\n",
    "\n",
    "scdb_init(\"/net/mraid14/export/tgdata/users/hernan/wd_NEW/scrna_db/\", force_reinit=T)"
   ]
  },
  {
   "cell_type": "markdown",
   "id": "805541ff",
   "metadata": {},
   "source": [
    "# Converting mat to .h5ad Format"
   ]
  },
  {
   "cell_type": "code",
   "execution_count": 2,
   "id": "a3ccd246",
   "metadata": {},
   "outputs": [],
   "source": [
    "mat_id = \"SynEmb3\"\n",
    "mc2_db_dir = .scdb_base\n",
    "mc_id_2 = \"SynEmb3\"\n",
    "mat = scdb_mat(mat_id)\n",
    "h5ad_fn = paste(mc2_db_dir , \"cells.SynEmb3.h5ad\", sep=\"\")\n",
    "out_h5ad <- anndata::AnnData(X = t(as.matrix(mat@mat)))\n",
    "sc$write(adata = out_h5ad, filename = h5ad_fn)"
   ]
  }
 ],
 "metadata": {
  "kernelspec": {
   "display_name": "R",
   "language": "R",
   "name": "ir"
  },
  "language_info": {
   "codemirror_mode": "r",
   "file_extension": ".r",
   "mimetype": "text/x-r-source",
   "name": "R",
   "pygments_lexer": "r",
   "version": "4.0.5"
  }
 },
 "nbformat": 4,
 "nbformat_minor": 5
}
