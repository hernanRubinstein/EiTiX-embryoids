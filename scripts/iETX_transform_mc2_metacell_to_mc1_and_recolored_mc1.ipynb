{
 "cells": [
  {
   "cell_type": "code",
   "execution_count": 1,
   "id": "360ac6f9",
   "metadata": {},
   "outputs": [],
   "source": [
    "library(\"reticulate\")\n",
    "use_python(\"/net/mraid14/export/data/users/eladch/tools/CO7/python3/3.7.5/bin/python\", required=TRUE)\n",
    "library(\"anndata\")\n",
    "sc = import(\"scanpy\")\n",
    "mc2 = import(\"metacells\")"
   ]
  },
  {
   "cell_type": "code",
   "execution_count": 2,
   "id": "05c83921",
   "metadata": {},
   "outputs": [
    {
     "name": "stderr",
     "output_type": "stream",
     "text": [
      "Loading required package: usethis\n",
      "\n",
      "-- \u001b[1mAttaching packages\u001b[22m --------------------------------------- tidyverse 1.3.1 --\n",
      "\n",
      "\u001b[32mv\u001b[39m \u001b[34mggplot2\u001b[39m 3.3.5     \u001b[32mv\u001b[39m \u001b[34mpurrr  \u001b[39m 0.3.4\n",
      "\u001b[32mv\u001b[39m \u001b[34mtibble \u001b[39m 3.1.3     \u001b[32mv\u001b[39m \u001b[34mdplyr  \u001b[39m 1.0.9\n",
      "\u001b[32mv\u001b[39m \u001b[34mtidyr  \u001b[39m 1.2.0     \u001b[32mv\u001b[39m \u001b[34mstringr\u001b[39m 1.4.0\n",
      "\u001b[32mv\u001b[39m \u001b[34mreadr  \u001b[39m 2.1.0     \u001b[32mv\u001b[39m \u001b[34mforcats\u001b[39m 0.5.1\n",
      "\n",
      "-- \u001b[1mConflicts\u001b[22m ------------------------------------------ tidyverse_conflicts() --\n",
      "\u001b[31mx\u001b[39m \u001b[34mdplyr\u001b[39m::\u001b[32mbetween()\u001b[39m   masks \u001b[34mdata.table\u001b[39m::between()\n",
      "\u001b[31mx\u001b[39m \u001b[34mtidyr\u001b[39m::\u001b[32mexpand()\u001b[39m    masks \u001b[34mMatrix\u001b[39m::expand()\n",
      "\u001b[31mx\u001b[39m \u001b[34mdplyr\u001b[39m::\u001b[32mfilter()\u001b[39m    masks \u001b[34mstats\u001b[39m::filter()\n",
      "\u001b[31mx\u001b[39m \u001b[34mdplyr\u001b[39m::\u001b[32mfirst()\u001b[39m     masks \u001b[34mdata.table\u001b[39m::first()\n",
      "\u001b[31mx\u001b[39m \u001b[34mdplyr\u001b[39m::\u001b[32mlag()\u001b[39m       masks \u001b[34mstats\u001b[39m::lag()\n",
      "\u001b[31mx\u001b[39m \u001b[34mdplyr\u001b[39m::\u001b[32mlast()\u001b[39m      masks \u001b[34mdata.table\u001b[39m::last()\n",
      "\u001b[31mx\u001b[39m \u001b[34mtidyr\u001b[39m::\u001b[32mpack()\u001b[39m      masks \u001b[34mMatrix\u001b[39m::pack()\n",
      "\u001b[31mx\u001b[39m \u001b[34mreadr\u001b[39m::\u001b[32mread_csv()\u001b[39m  masks \u001b[34manndata\u001b[39m::read_csv()\n",
      "\u001b[31mx\u001b[39m \u001b[34mpurrr\u001b[39m::\u001b[32mtranspose()\u001b[39m masks \u001b[34mdata.table\u001b[39m::transpose()\n",
      "\u001b[31mx\u001b[39m \u001b[34mtidyr\u001b[39m::\u001b[32munpack()\u001b[39m    masks \u001b[34mMatrix\u001b[39m::unpack()\n",
      "\n"
     ]
    }
   ],
   "source": [
    "library(\"metacell\")\n",
    "library(\"devtools\")\n",
    "library(\"Matrix\")\n",
    "library(\"data.table\")\n",
    "library(\"tidyverse\")"
   ]
  },
  {
   "cell_type": "code",
   "execution_count": 3,
   "id": "b5434c11",
   "metadata": {},
   "outputs": [],
   "source": [
    "##### TODO change mat_id and scdb_dir to what you need #####\n",
    "setwd(\"/net/mraid14/export/tgdata/users/hernan/wd_NEW/SynEmbs3/Submission/\")\n",
    "scdb_dir = \"/net/mraid14/export/tgdata/users/hernan/wd_NEW/SynEmbs3/Submission/scrna_db/\"\n",
    "fig_dir <- \"/net/mraid14/export/tgdata/users/hernan/wd_NEW/SynEmbs3/Submission/figs/\"\n",
    "if(!dir.exists(fig_dir)) {\n",
    "    dir.create(fig_dir)\n",
    "  }\n",
    "\n",
    "scfigs_init(fig_dir)\n",
    "\n",
    "mat_id = \"mat.iETX3.h5ad\"\n",
    "mc_id = \"mc.iETX3.h5ad\"\n",
    "######"
   ]
  },
  {
   "cell_type": "code",
   "execution_count": 4,
   "id": "35e6c71e",
   "metadata": {},
   "outputs": [],
   "source": [
    "MC2_metacell = anndata::read_h5ad(paste(scdb_dir,mc_id, sep = \"\"))\n",
    "MC2_mat = anndata::read_h5ad(paste(scdb_dir,mat_id, sep = \"\"))\n",
    "\n",
    "cells_mc = MC2_mat$obs$metacell\n",
    "cells_mc = cells_mc + 1\n",
    "cell_names = MC2_mat$obs_names\n",
    "names(cells_mc) = cell_names\n",
    "gene_names = MC2_metacell$var_names"
   ]
  },
  {
   "cell_type": "code",
   "execution_count": 5,
   "id": "13784bfc",
   "metadata": {},
   "outputs": [],
   "source": [
    "outlier_cells = names(cells_mc)[cells_mc == 0]\n",
    "cells_mc_filt = cells_mc[cells_mc > 0]\n",
    "\n",
    "umis2 = as.matrix(MC2_metacell$X)\n",
    "fractions = umis2 / rowSums(umis2)\n",
    "fractions = t(fractions)"
   ]
  },
  {
   "cell_type": "code",
   "execution_count": 15,
   "id": "3b49129f",
   "metadata": {},
   "outputs": [],
   "source": [
    "pre_mat = scm_new_matrix(mat = t(MC2_mat$X),MC2_mat$obs,stat_type = 'umis')"
   ]
  },
  {
   "cell_type": "code",
   "execution_count": 16,
   "id": "dffe795a",
   "metadata": {},
   "outputs": [
    {
     "name": "stderr",
     "output_type": "stream",
     "text": [
      "initializing scdb to /net/mraid14/export/tgdata/users/hernan/wd_NEW/SynEmbs3/Submission/scrna_db/\n",
      "\n"
     ]
    }
   ],
   "source": [
    "scdb_init(scdb_dir,force_reinit = T)\n",
    "scdb_add_mat(id = \"iETX3_MC1\", mat = pre_mat)"
   ]
  },
  {
   "cell_type": "code",
   "execution_count": 17,
   "id": "f6978a79",
   "metadata": {},
   "outputs": [
    {
     "name": "stdout",
     "output_type": "stream",
     "text": [
      "[1] \"mat.SynEmb3\"        \"mat.SynEmb3_embexe\" \"mat.embexe\"        \n",
      "[4] \"mat.iETX3.h5ad\"     \"mat.iETX3_MC1\"     \n"
     ]
    }
   ],
   "source": [
    "scdb_ls(\"mat\")"
   ]
  },
  {
   "cell_type": "code",
   "execution_count": 18,
   "id": "5b38a4d6",
   "metadata": {
    "scrolled": true
   },
   "outputs": [
    {
     "name": "stderr",
     "output_type": "stream",
     "text": [
      "initializing scdb to /net/mraid14/export/tgdata/users/hernan/wd_NEW/SynEmbs3/Submission/scrna_db/\n",
      "\n",
      "add batch counts\n",
      "\n",
      "compute footprints\n",
      "\n",
      "compute absolute ps\n",
      "\n",
      "compute coverage ps\n",
      "\n"
     ]
    }
   ],
   "source": [
    "scdb_init(scdb_dir,force_reinit = T)\n",
    "MC1_mat = scdb_mat(\"iETX3_MC1\")\n",
    "MC1_mc_embexe <- scdb_mc(\"embexe_recolored\")\n",
    "\n",
    "scdb_add_mc(\"iETX3_MC1\", tgMCCov(cells_mc_filt, c(outlier_cells, setdiff(MC1_mat@cells, c(outlier_cells, names(cells_mc_filt)))), MC1_mat))\n",
    "MC1_metacell = scdb_mc(\"iETX3_MC1\")\n",
    "colnames(fractions) = colnames(MC1_metacell@e_gc)\n",
    "MC1_metacell@e_gc = fractions\n",
    "MC1_metacell@color_key <- MC1_mc_embexe@color_key\n",
    "MC1_metacell@cell_names <- names(MC1_metacell@mc)\n",
    "scdb_add_mc(id = \"iETX3_MC1\", mc = MC1_metacell)"
   ]
  },
  {
   "cell_type": "code",
   "execution_count": 19,
   "id": "d342126c",
   "metadata": {},
   "outputs": [
    {
     "name": "stdout",
     "output_type": "stream",
     "text": [
      "Calculating gene statistics... "
     ]
    },
    {
     "name": "stderr",
     "output_type": "stream",
     "text": [
      "will downsamp\n",
      "\n",
      "done downsamp\n",
      "\n",
      "will gen mat_n\n",
      "\n",
      "done gen mat_n\n",
      "\n",
      "done computing basic gstat, will compute trends\n",
      "\n",
      "Warning message in cor(x, ctot):\n",
      "\"the standard deviation is zero\"\n",
      "Warning message in cor(x, ctot):\n",
      "\"the standard deviation is zero\"\n",
      "Warning message in cor(x, ctot):\n",
      "\"the standard deviation is zero\"\n",
      "Warning message in cor(x, ctot):\n",
      "\"the standard deviation is zero\"\n",
      "Warning message in cor(x, ctot):\n",
      "\"the standard deviation is zero\"\n",
      "Warning message in cor(x, ctot):\n",
      "\"the standard deviation is zero\"\n",
      "Warning message in cor(x, ctot):\n",
      "\"the standard deviation is zero\"\n",
      "Warning message in cor(x, ctot):\n",
      "\"the standard deviation is zero\"\n",
      "Warning message in cor(x, ctot):\n",
      "\"the standard deviation is zero\"\n",
      "Warning message in cor(x, ctot):\n",
      "\"the standard deviation is zero\"\n",
      "Warning message in cor(x, ctot):\n",
      "\"the standard deviation is zero\"\n",
      "Warning message in cor(x, ctot):\n",
      "\"the standard deviation is zero\"\n",
      "Warning message in cor(x, ctot):\n",
      "\"the standard deviation is zero\"\n",
      "Warning message in cor(x, ctot):\n",
      "\"the standard deviation is zero\"\n",
      "Warning message in cor(x, ctot):\n",
      "\"the standard deviation is zero\"\n",
      "Warning message in cor(x, ctot):\n",
      "\"the standard deviation is zero\"\n",
      "Warning message in cor(x, ctot):\n",
      "\"the standard deviation is zero\"\n",
      "Warning message in cor(x, ctot):\n",
      "\"the standard deviation is zero\"\n",
      "Warning message in cor(x, ctot):\n",
      "\"the standard deviation is zero\"\n",
      "Warning message in cor(x, ctot):\n",
      "\"the standard deviation is zero\"\n",
      "Warning message in cor(x, ctot):\n",
      "\"the standard deviation is zero\"\n",
      "Warning message in cor(x, ctot):\n",
      "\"the standard deviation is zero\"\n",
      "Warning message in cor(x, ctot):\n",
      "\"the standard deviation is zero\"\n"
     ]
    },
    {
     "name": "stdout",
     "output_type": "stream",
     "text": [
      "..done\n"
     ]
    },
    {
     "name": "stderr",
     "output_type": "stream",
     "text": [
      "will downsample the matrix, N= 246\n",
      "\n",
      "will build balanced knn graph on 190881 cells and 577 genes, this can be a bit heavy for >20,000 cells\n",
      "\n"
     ]
    }
   ],
   "source": [
    "bad_genes <- rownames(MC2_metacell$var)[MC2_metacell$var$forbidden_gene]\n",
    "feature_genes <- rownames(MC2_metacell$var)[MC2_metacell$var$top_feature_gene]\n",
    "\n",
    "write.table(bad_genes, file = \"iETX3_bad_genes.txt\", sep =\"\\t\")\n",
    "write.table(feature_genes, file = \"iETX3_feature_genes.txt\", sep =\"\\t\")\n",
    "\n",
    "# MC1_mat = scm_ignore_cells(scmat = MC1_mat, ig_cells = names(MC1_metacell@mc), reverse = T)\n",
    "# MC1_mat = scm_ignore_genes(scmat = MC1_mat, ig_genes = bad_genes, reverse = F)\n",
    "# scdb_add_mat(id = \"iETX3\", mat = MC1_mat)\n",
    "\n",
    "T_vm = 0.1\n",
    "T_top3 = 3\n",
    "T_tot = 50\n",
    "K = 100\n",
    "\n",
    "mcell_add_gene_stat(mat_id = \"iETX3\", gstat_id = \"iETX3\", force = T)\n",
    "mcell_gset_filter_varmean(gstat_id = \"iETX3\",gset_id = \"iETX3_new\", T_vm = T_vm, force_new = T)\n",
    "mcell_gset_filter_cov(gstat_id = \"iETX3\", gset_id = \"iETX3_new\", T_tot = T_tot, T_top3 = T_top3)\n",
    "\n",
    "gset_new = scdb_gset(\"iETX3_new\")\n",
    "\n",
    "mcell_add_cgraph_from_mat_bknn(mat_id = \"iETX3\",\n",
    "                               gset_id = \"iETX3_new\", \n",
    "                               graph_id = \"iETX3_new\", \n",
    "                               K = K, \n",
    "                               dsamp = T)"
   ]
  },
  {
   "cell_type": "code",
   "execution_count": 20,
   "id": "9a684a7f",
   "metadata": {},
   "outputs": [
    {
     "name": "stdout",
     "output_type": "stream",
     "text": [
      "[1] \"mat.iETX3\"      \"mat.iETX3.h5ad\" \"mat.iETX3_MC1\" \n",
      "[1] \"mc.iETX3.h5ad\" \"mc.iETX3_MC1\" \n",
      "[1] \"gset.iETX3_new\"\n",
      "[1] \"gstat.iETX3\"\n"
     ]
    }
   ],
   "source": [
    "scdb_ls(\"mat\",\"iETX3\")\n",
    "scdb_ls(\"mc\",\"iETX3\")\n",
    "scdb_ls(\"gset\",\"iETX3\")\n",
    "scdb_ls(\"gstat\",\"iETX3\")"
   ]
  },
  {
   "cell_type": "markdown",
   "id": "ffdba41d",
   "metadata": {},
   "source": [
    "## Project on MC1 embexe atlas"
   ]
  },
  {
   "cell_type": "code",
   "execution_count": 21,
   "id": "9d436758",
   "metadata": {},
   "outputs": [],
   "source": [
    "wt_atlas = mcell_gen_atlas(mat_id = \"embexe\",\n",
    "                           mc_id = \"embexe_recolored\",\n",
    "                           gset_id  = \"embexe\",\n",
    "                           mc2d_id= \"embexe_recolored_umap\")"
   ]
  },
  {
   "cell_type": "code",
   "execution_count": null,
   "id": "ce378d41",
   "metadata": {
    "scrolled": true
   },
   "outputs": [],
   "source": [
    "mcell_proj_on_atlas(mat_id = \"iETX3_MC1\", \n",
    "                    mc_id = \"iETX3_MC1\", \n",
    "                    atlas = wt_atlas, \n",
    "                    recolor_mc_id = \"iETX3_MC1_recolored\",\n",
    "                    fig_cmp_dir = fig_dir,\n",
    "                    max_entropy = 4, \n",
    "                    burn_cor = 0.6)"
   ]
  },
  {
   "cell_type": "code",
   "execution_count": null,
   "id": "0d52f3a8",
   "metadata": {},
   "outputs": [],
   "source": [
    "tgconfig::override_params(config_file = \"sing_emb.yaml\",package = \"metacell\")\n",
    "\n",
    "mcell_mc2d_force_knn(mc2d_id = \"iETX3_MC1_recolored_umap\",\n",
    "                     mc_id = \"iETX3_MC1_recolored\",\n",
    "                     graph_id = \"iETX3_new\")\n",
    "\n",
    "mcell_mc2d_plot(mc2d_id = \"iETX3_MC1_recolored_umap\",\n",
    "                plot_edges = T)"
   ]
  }
 ],
 "metadata": {
  "kernelspec": {
   "display_name": "R",
   "language": "R",
   "name": "ir"
  },
  "language_info": {
   "codemirror_mode": "r",
   "file_extension": ".r",
   "mimetype": "text/x-r-source",
   "name": "R",
   "pygments_lexer": "r",
   "version": "4.0.5"
  }
 },
 "nbformat": 4,
 "nbformat_minor": 5
}
