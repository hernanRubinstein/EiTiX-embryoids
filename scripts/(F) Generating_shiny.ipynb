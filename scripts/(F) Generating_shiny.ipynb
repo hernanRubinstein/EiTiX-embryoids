{
 "cells": [
  {
   "cell_type": "code",
   "execution_count": 1,
   "id": "d3dddcf2",
   "metadata": {},
   "outputs": [],
   "source": [
    "library(MCView)"
   ]
  },
  {
   "cell_type": "code",
   "execution_count": 2,
   "id": "07daf2da",
   "metadata": {},
   "outputs": [
    {
     "name": "stderr",
     "output_type": "stream",
     "text": [
      "\u001b[36mi\u001b[39m Importing \u001b[32m\u001b[32mquery\u001b[32m\u001b[39m\n",
      "\n",
      "\u001b[36mi\u001b[39m Reading \u001b[34m\u001b[34m/net/mraid14/export/tgdata/users/hernan/wd_NEW/scrna_db/mc.SynEmb3_recolored.h5ad\u001b[34m\u001b[39m\n",
      "\n",
      "\u001b[36mi\u001b[39m Processing metacell matrix\n",
      "\n",
      "\u001b[36mi\u001b[39m Processing 2d projection\n",
      "\n",
      "\u001b[36mi\u001b[39m Calculating top genes per metacell (marker genes)\n",
      "\n",
      "\u001b[36mi\u001b[39m Processing inner-folds matrix\n",
      "\n",
      "\u001b[36mi\u001b[39m Calculating top inner-fold genes\n",
      "\n",
      "\u001b[36mi\u001b[39m Add the \u001b[32m\u001b[32m\"Inner-fold\"\u001b[32m\u001b[39m tab to your config file to view the inner-fold matrix\n",
      "\n",
      "\u001b[36mi\u001b[39m Taking cell type annotations from \u001b[32m\u001b[32mprojected_type\u001b[32m\u001b[39m field in the anndata object\n",
      "\n",
      "\u001b[36mi\u001b[39m Loading cell type color annotations from \u001b[34m\u001b[34m/net/mraid14/export/tgdata/db/tgdb/tanaywiz/apps/mm_gastru/devel/embexe_atlas2/project/cache/embexe2_star/cell_type_colors.tsv\u001b[34m\u001b[39m\n",
      "\n",
      "\u001b[36mi\u001b[39m Clustering in order to get gene modules. k = \u001b[34m\u001b[34m31\u001b[34m\u001b[39m\n",
      "\n",
      "\u001b[36mi\u001b[39m Number of genes considered = \u001b[34m\u001b[34m1000\u001b[34m\u001b[39m\n",
      "\n",
      "\u001b[36mi\u001b[39m Loading previously calculated 30 correlated and anti-correlated genes for each gene\n",
      "\n",
      "\u001b[36mi\u001b[39m Reading dataset \u001b[34m\u001b[34membexe2_star\u001b[34m\u001b[39m at project: \u001b[34m\u001b[34m/net/mraid14/export/tgdata/db/tgdb/tanaywiz/apps/mm_gastru/devel/embexe_atlas2/project\u001b[34m\u001b[39m\n",
      "\n",
      "\u001b[36mi\u001b[39m Calculating top atlas-query fold genes\n",
      "\n",
      "\u001b[32mv\u001b[39m succesfully imported atlas projections\n",
      "\n",
      "\u001b[32mv\u001b[39m \u001b[32m\u001b[32mquery\u001b[32m\u001b[39m dataset imported succesfully to \u001b[34m\u001b[34mSynEmbs-3.0\u001b[34m\u001b[39m project\n",
      "\n",
      "* You can now run the app using: \u001b[32mrun_app(\"SynEmbs-3.0\")\u001b[39m\n",
      "\n",
      "* or create a bundle using: \u001b[32mcreate_bundle(\"SynEmbs-3.0\", name =\u001b[39m\n",
      "\u001b[32m\"name_of_bundle\")\u001b[39m\n",
      "\n"
     ]
    }
   ],
   "source": [
    "MCView::import_dataset(\n",
    "    \"SynEmbs-3.0\",\n",
    "    \"query\",\n",
    "    \"/net/mraid14/export/tgdata/users/hernan/wd_NEW/scrna_db/mc.SynEmb3_recolored.h5ad\",\n",
    "    cell_type_field = \"projected_type\",\n",
    "    metadata_fields = \"all\",\n",
    "    projection_weights_file = \"/net/mraid14/export/tgdata/users/hernan/wd_NEW/SynEmbs3/weights_SynEmbs3.csv\",\n",
    "    cell_type_colors_file = \"/net/mraid14/export/tgdata/db/tgdb/tanaywiz/apps/mm_gastru/devel/embexe_atlas2/project/cache/embexe2_star/cell_type_colors.tsv\",\n",
    "    atlas_project = \"/net/mraid14/export/tgdata/db/tgdb/tanaywiz/apps/mm_gastru/devel/embexe_atlas2/project\",\n",
    "    atlas_dataset = \"embexe2_star\",\n",
    "    title = \"SynEmbs-3.0\"\n",
    ")"
   ]
  },
  {
   "cell_type": "code",
   "execution_count": 3,
   "id": "0fae807f",
   "metadata": {},
   "outputs": [
    {
     "name": "stderr",
     "output_type": "stream",
     "text": [
      "* Removing previous bundle (\u001b[32moverwrite = TRUE\u001b[39m)\n",
      "\n",
      "* Adding a file called \u001b[32mrestart.txt\u001b[39m\n",
      "\n",
      "* Changing permissions to \u001b[32m777\u001b[39m\n",
      "\n",
      "* Bundle files:\n",
      "\n"
     ]
    },
    {
     "name": "stdout",
     "output_type": "stream",
     "text": [
      "\u001b[34;42m/net/mraid14/export/tgdata/db/tgdb/tanaywiz/apps/hernan/SynEmbs-3.0\u001b[0m\n",
      "+-- \u001b[01;32mapp.R\u001b[0m\n",
      "+-- \u001b[34;42mproject\u001b[0m\n",
      "|   +-- \u001b[34;42mcache\u001b[0m\n",
      "|   |   \\-- \u001b[34;42mquery\u001b[0m\n",
      "|   |       +-- \u001b[34;42matlas\u001b[0m\n",
      "|   |       |   +-- \u001b[01;32mcell_type_colors.tsv\u001b[0m\n",
      "|   |       |   +-- \u001b[01;32mforbidden_genes.qs\u001b[0m\n",
      "|   |       |   +-- \u001b[01;32minner_fold_mat.qs\u001b[0m\n",
      "|   |       |   +-- \u001b[01;32mmarker_genes.qs\u001b[0m\n",
      "|   |       |   +-- \u001b[01;32mmarker_genes_inner_fold.qs\u001b[0m\n",
      "|   |       |   +-- \u001b[01;32mmc2d.qs\u001b[0m\n",
      "|   |       |   +-- \u001b[01;32mmc_mat.qs\u001b[0m\n",
      "|   |       |   +-- \u001b[01;32mmc_sum.qs\u001b[0m\n",
      "|   |       |   +-- \u001b[01;32mmetacell_types.tsv\u001b[0m\n",
      "|   |       |   \\-- \u001b[01;32mmetadata.tsv\u001b[0m\n",
      "|   |       +-- \u001b[01;32mcell_type_colors.tsv\u001b[0m\n",
      "|   |       +-- \u001b[01;32mdisjoined_genes_no_atlas.qs\u001b[0m\n",
      "|   |       +-- \u001b[01;32mdisjoined_genes_no_query.qs\u001b[0m\n",
      "|   |       +-- \u001b[01;32mforbidden_genes.qs\u001b[0m\n",
      "|   |       +-- \u001b[01;32mgene_metadata.tsv\u001b[0m\n",
      "|   |       +-- \u001b[01;32mgene_modules.tsv\u001b[0m\n",
      "|   |       +-- \u001b[01;32mgg_mc_top_cor.qs\u001b[0m\n",
      "|   |       +-- \u001b[01;32minner_fold_mat.qs\u001b[0m\n",
      "|   |       +-- \u001b[01;32mmarker_genes.qs\u001b[0m\n",
      "|   |       +-- \u001b[01;32mmarker_genes_inner_fold.qs\u001b[0m\n",
      "|   |       +-- \u001b[01;32mmarker_genes_projected.qs\u001b[0m\n",
      "|   |       +-- \u001b[01;32mmc2d.qs\u001b[0m\n",
      "|   |       +-- \u001b[01;32mmc_mat.qs\u001b[0m\n",
      "|   |       +-- \u001b[01;32mmc_sum.qs\u001b[0m\n",
      "|   |       +-- \u001b[01;32mmetacell_types.tsv\u001b[0m\n",
      "|   |       +-- \u001b[01;32mmetadata.tsv\u001b[0m\n",
      "|   |       +-- \u001b[01;32mmetadata_colors.qs\u001b[0m\n",
      "|   |       +-- \u001b[01;32mproj_weights.qs\u001b[0m\n",
      "|   |       +-- \u001b[01;32mproject_max_projection_fold_factor.qs\u001b[0m\n",
      "|   |       +-- \u001b[01;32mprojected_fold.qs\u001b[0m\n",
      "|   |       +-- \u001b[01;32mprojected_mat.qs\u001b[0m\n",
      "|   |       +-- \u001b[01;32mprojected_mat_sum.qs\u001b[0m\n",
      "|   |       +-- \u001b[01;32mprojected_metacell_types.tsv\u001b[0m\n",
      "|   |       +-- \u001b[01;32mquery_atlas_cell_type_fracs.tsv\u001b[0m\n",
      "|   |       \\-- \u001b[01;32msystematic_genes.qs\u001b[0m\n",
      "|   \\-- \u001b[34;42mconfig\u001b[0m\n",
      "|       +-- \u001b[01;32mabout.Rmd\u001b[0m\n",
      "|       +-- \u001b[01;32mconfig.yaml\u001b[0m\n",
      "|       \\-- \u001b[01;32mhelp.yaml\u001b[0m\n",
      "\\-- \u001b[01;32mrestart.txt\u001b[0m\n",
      "\n"
     ]
    },
    {
     "name": "stderr",
     "output_type": "stream",
     "text": [
      "\u001b[32mv\u001b[39m created a bundle at \u001b[34m\u001b[34m/net/mraid14/export/tgdata/db/tgdb/tanaywiz/apps/hernan/SynEmbs-3.0\u001b[34m\u001b[39m\n",
      "\n",
      "* To deploy to shinyapps.io, run: \u001b[32mrsconnect::deployApp(appDir =\u001b[39m\n",
      "\u001b[32m\"/net/mraid14/export/tgdata/db/tgdb/tanaywiz/apps/hernan/SynEmbs-3.0\")\u001b[39m\n",
      "\n",
      "* To deploy to another shiny-server service, upload\n",
      "\u001b[34m/net/mraid14/export/tgdata/db/tgdb/tanaywiz/apps/hernan/SynEmbs-3.0\u001b[39m to the\n",
      "service.\n",
      "\n"
     ]
    }
   ],
   "source": [
    "MCView::create_bundle(permissions = '777',\n",
    "    project = \"SynEmbs-3.0\", \n",
    "    path = \"/net/mraid14/export/tgdata/db/tgdb/tanaywiz/apps/hernan/\", \n",
    "    overwrite=TRUE, \n",
    "    name = \"SynEmbs-3.0\"\n",
    ")"
   ]
  }
 ],
 "metadata": {
  "kernelspec": {
   "display_name": "R",
   "language": "R",
   "name": "ir"
  },
  "language_info": {
   "codemirror_mode": "r",
   "file_extension": ".r",
   "mimetype": "text/x-r-source",
   "name": "R",
   "pygments_lexer": "r",
   "version": "4.0.5"
  }
 },
 "nbformat": 4,
 "nbformat_minor": 5
}
